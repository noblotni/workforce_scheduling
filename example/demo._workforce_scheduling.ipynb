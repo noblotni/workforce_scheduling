{
 "cells": [
  {
   "attachments": {},
   "cell_type": "markdown",
   "metadata": {},
   "source": [
    "# Notebook de démo du package"
   ]
  },
  {
   "attachments": {},
   "cell_type": "markdown",
   "metadata": {},
   "source": [
    "## Installation des dépendances\n",
    "\n",
    "On vous propose d'installer les dépendances du package à partir de la cellule suivante si ce n'est toujours pas fait."
   ]
  },
  {
   "cell_type": "code",
   "execution_count": 2,
   "metadata": {},
   "outputs": [
    {
     "name": "stdout",
     "output_type": "stream",
     "text": [
      "\u001b[31mERROR: Directory '.' is not installable. Neither 'setup.py' nor 'pyproject.toml' found.\u001b[0m\u001b[31m\n",
      "\u001b[0m\n",
      "\u001b[1m[\u001b[0m\u001b[34;49mnotice\u001b[0m\u001b[1;39;49m]\u001b[0m\u001b[39;49m A new release of pip available: \u001b[0m\u001b[31;49m22.3.1\u001b[0m\u001b[39;49m -> \u001b[0m\u001b[32;49m23.0\u001b[0m\n",
      "\u001b[1m[\u001b[0m\u001b[34;49mnotice\u001b[0m\u001b[1;39;49m]\u001b[0m\u001b[39;49m To update, run: \u001b[0m\u001b[32;49mpip install --upgrade pip\u001b[0m\n"
     ]
    }
   ],
   "source": [
    "! pip install .."
   ]
  },
  {
   "attachments": {},
   "cell_type": "markdown",
   "metadata": {},
   "source": [
    "## Quelques imports utiles"
   ]
  },
  {
   "cell_type": "code",
   "execution_count": null,
   "metadata": {},
   "outputs": [],
   "source": [
    "from pathlib import Path\n",
    "import pandas as pd\n",
    "import numpy as np\n",
    "from workforce_scheduling.utils import get_schedule_from_npz\n",
    "from workforce_scheduling.plot import plot_pareto_surface, plot_schedule\n",
    "from workforce_scheduling.preferences.uta import run_uta\n",
    "from workforce_scheduling.preferences.minmax_ranking import run_kbest"
   ]
  },
  {
   "attachments": {},
   "cell_type": "markdown",
   "metadata": {},
   "source": [
    "## Résolution sur des instances\n",
    "\n",
    "On propose de déterminer les solutions non-dominées sur deux instances :\n",
    "- l'instance du fichier `example/data/medium_instance.json`\n",
    "- une instance générée par le script `./scripts/generate_instances.py` accessible depuis `example/data/instances_16/instance_0.json`\n",
    "\n",
    "La cellule suivante recherche les solutions non-dominées pour ces deux instances. La cellule prend un certain temps à s'exécuter (de l'ordre de 1 à 2 heures). Les solutions ont été précalculées et sont disponibles dans les fichiers `example/solved/instances_16/instance_0/instance_0_pareto.csv`et `example/medium_instance/medium_instance_pareto.csv`."
   ]
  },
  {
   "cell_type": "code",
   "execution_count": null,
   "metadata": {},
   "outputs": [],
   "source": [
    "! python -m workforce_scheduling solve --data-path=./data/medium_instance.json\n",
    "! python -m workforce_scheduling solve --data-path=./data/instances_16/instance_0.json"
   ]
  },
  {
   "cell_type": "code",
   "execution_count": null,
   "metadata": {},
   "outputs": [],
   "source": []
  },
  {
   "cell_type": "code",
   "execution_count": null,
   "metadata": {},
   "outputs": [],
   "source": []
  }
 ],
 "metadata": {
  "kernelspec": {
   "display_name": "Python 3",
   "language": "python",
   "name": "python3"
  },
  "language_info": {
   "codemirror_mode": {
    "name": "ipython",
    "version": 3
   },
   "file_extension": ".py",
   "mimetype": "text/x-python",
   "name": "python",
   "nbconvert_exporter": "python",
   "pygments_lexer": "ipython3",
   "version": "3.9.2"
  },
  "orig_nbformat": 4,
  "vscode": {
   "interpreter": {
    "hash": "5ee2d4ab1aef22665cb9574441f1d1c42956064283c1e6d23ad8a0688e81c5ed"
   }
  }
 },
 "nbformat": 4,
 "nbformat_minor": 2
}
