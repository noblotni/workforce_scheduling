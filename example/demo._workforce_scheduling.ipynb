{
 "cells": [
  {
   "cell_type": "markdown",
   "execution_count": null,
   "metadata": {},
   "outputs": [],
   "source": [
    "# Notebook de démonstration du fonctionnement du package workforce_scheduling"
   ]
  },
  {
   "cell_type": "markdown",
   "execution_count": null,
   "metadata": {},
   "outputs": [],
   "source": [
    "## Installation des dépendances\n",
    "\n",
    "On vous propose d'installer les dépendances du package à partir de la cellule suivante si ce n'est toujours pas fait."
   ]
  },
  {
   "cell_type": "code",
   "execution_count": null,
   "metadata": {},
   "outputs": [],
   "source": [
    "! pip install .."
   ]
  },
  {
   "cell_type": "markdown",
   "execution_count": null,
   "metadata": {},
   "outputs": [],
   "source": [
    "## Quelques imports utiles"
   ]
  },
  {
   "cell_type": "code",
   "execution_count": null,
   "metadata": {},
   "outputs": [],
   "source": [
    "from pathlib import Path\n",
    "import pandas as pd\n",
    "import numpy as np\n",
    "from workforce_scheduling.utils import get_schedule_from_npz\n",
    "from workforce_scheduling.plot import plot_pareto_surface, plot_schedule\n",
    "from workforce_scheduling.preferences.uta import run_uta\n",
    "from workforce_scheduling.preferences.minmax_ranking import run_kbest"
   ]
  },
  {
   "cell_type": "markdown",
   "execution_count": null,
   "metadata": {},
   "outputs": [],
   "source": [
    "## Résolution sur des instances\n",
    "\n",
    "On propose de déterminer les solutions non-dominées sur deux instances :\n",
    "- l'instance du fichier `example/data_example/medium_instance.json`\n",
    "- une instance générée par le script `./scripts/generate_instances.py` accessible depuis `example/data_example/instances_16/instance_0.json`\n",
    "\n",
    "La cellule suivante recherche les solutions non-dominées pour ces deux instances. La cellule prend un certain temps à s'exécuter (de l'ordre de 1 à 2 heures). \n",
    "\n",
    "Les solutions ont été précalculées et sont disponibles dans les fichiers `example/solved_example/instances_16/instance_0/instance_0_pareto.csv` et `example/solved_example/medium_instance/medium_instance_pareto.csv`."
   ]
  },
  {
   "cell_type": "code",
   "execution_count": null,
   "metadata": {},
   "outputs": [],
   "source": [
    "! python -m workforce_scheduling solve --data-path=./data_example/medium_instance.json\n",
    "! python -m workforce_scheduling solve --data-path=./data_example/instances_16/instance_0.json"
   ]
  },
  {
   "cell_type": "markdown",
   "execution_count": null,
   "metadata": {},
   "outputs": [],
   "source": [
    "## Visualisation de solutions"
   ]
  },
  {
   "cell_type": "markdown",
   "execution_count": null,
   "metadata": {},
   "outputs": [],
   "source": [
    "### Surfaces de Pareto"
   ]
  },
  {
   "cell_type": "markdown",
   "execution_count": null,
   "metadata": {},
   "outputs": [],
   "source": [
    "Surface de Pareto de l'instance `medium.json`."
   ]
  },
  {
   "cell_type": "code",
   "execution_count": null,
   "metadata": {},
   "outputs": [],
   "source": [
    "medium_pareto_df = pd.read_csv(Path(\"./solved_example/medium_instance/medium_instance_pareto.csv\"))\n",
    "plot_pareto_surface(medium_pareto_df)"
   ]
  },
  {
   "cell_type": "markdown",
   "execution_count": null,
   "metadata": {},
   "outputs": [],
   "source": [
    "Surface de Pareto de l'instance `instance_0.json`"
   ]
  },
  {
   "cell_type": "code",
   "execution_count": null,
   "metadata": {},
   "outputs": [],
   "source": [
    "generated_pareto_df = pd.read_csv(Path(\"./solved_example/instances_16/instance_0/instance_0_pareto.csv\"))\n",
    "plot_pareto_surface(generated_pareto_df)"
   ]
  },
  {
   "cell_type": "markdown",
   "execution_count": null,
   "metadata": {},
   "outputs": [],
   "source": [
    "### Exemples d'emplois du temps"
   ]
  },
  {
   "cell_type": "markdown",
   "execution_count": null,
   "metadata": {},
   "outputs": [],
   "source": [
    "La cellule suivante affiche un emploi du temps possible pour l'instance `medium_instance.json`. Pour cette solution, le profit est de 411, le nombre maximal de projets par employé est de 6 et la durée du plus long projet s'élève à 10 jours."
   ]
  },
  {
   "cell_type": "code",
   "execution_count": null,
   "metadata": {},
   "outputs": [],
   "source": [
    "medium_schedule = get_schedule_from_npz(Path(\"./solved_example/medium_instance/workforce_scheduling34761.npz\"))\n",
    "plot_schedule(medium_schedule)"
   ]
  },
  {
   "cell_type": "markdown",
   "execution_count": null,
   "metadata": {},
   "outputs": [],
   "source": [
    "La cellule d'après montre un emploi du temps possible pour l'instance générée `instance_0.json`. Pour ce planning, le profit est de 427, le nombre maximal de projets par employé est de 6 et la durée du projet le plus long est de 4 jours."
   ]
  },
  {
   "cell_type": "code",
   "execution_count": null,
   "metadata": {},
   "outputs": [],
   "source": [
    "generated_schedule = get_schedule_from_npz(Path(\"./solved_example/instances_16/instance_0/workforce_scheduling72229.npz\"))\n",
    "plot_schedule(generated_schedule)"
   ]
  },
  {
   "cell_type": "code",
   "execution_count": null,
   "metadata": {},
   "outputs": [],
   "source": [
    "from workforce_scheduling.preferences.uta import run_uta\n",
    "from pathlib import Path\n",
    "import pandas as pd\n",
    "import numpy as np"
   ]
  },
  {
   "cell_type": "markdown",
   "execution_count": null,
   "metadata": {},
   "outputs": [],
   "source": [
    "## Méthodes de préférences :"
   ]
  },
  {
   "cell_type": "markdown",
   "execution_count": null,
   "metadata": {},
   "outputs": [],
   "source": [
    "## UTA"
   ]
  },
  {
   "cell_type": "code",
   "execution_count": 11,
   "metadata": {},
   "outputs": [
    {
     "name": "stdout",
     "output_type": "stream",
     "text": "Gurobi Optimizer version 10.0.1 build v10.0.1rc0 (mac64[x86])\n\nCPU model: Intel(R) Core(TM) i5-8257U CPU @ 1.40GHz\nThread count: 4 physical cores, 8 logical processors, using up to 8 threads\n\nOptimize a model with 21 rows, 25 columns and 96 nonzeros\nModel fingerprint: 0x0fe511da\nCoefficient statistics:\n  Matrix range     [1e-02, 1e+00]\n  Objective range  [1e+00, 1e+00]\n  Bounds range     [0e+00, 0e+00]\n  RHS range        [1e-03, 1e+00]\nPresolve removed 11 rows and 9 columns\nPresolve time: 0.02s\nPresolved: 10 rows, 19 columns, 45 nonzeros\n\nIteration    Objective       Primal Inf.    Dual Inf.      Time\n       0    0.0000000e+00   2.224146e+00   0.000000e+00      0s\n       5    0.0000000e+00   0.000000e+00   0.000000e+00      0s\n\nSolved in 5 iterations and 0.03 seconds (0.00 work units)\nOptimal objective  0.000000000e+00\nGurobi Optimizer version 10.0.1 build v10.0.1rc0 (mac64[x86])\n\nCPU model: Intel(R) Core(TM) i5-8257U CPU @ 1.40GHz\nThread count: 4 physical cores, 8 logical processors, using up to 8 threads\n\nOptimize a model with 23 rows, 27 columns and 110 nonzeros\nModel fingerprint: 0xdcd9a2a5\nCoefficient statistics:\n  Matrix range     [1e-02, 1e+00]\n  Objective range  [1e+00, 1e+00]\n  Bounds range     [0e+00, 0e+00]\n  RHS range        [1e-03, 1e+00]\nPresolve removed 9 rows and 9 columns\nPresolve time: 0.04s\nPresolved: 14 rows, 18 columns, 73 nonzeros\n\nIteration    Objective       Primal Inf.    Dual Inf.      Time\n       0    0.0000000e+00   1.355146e+00   0.000000e+00      0s\n       5    0.0000000e+00   0.000000e+00   0.000000e+00      0s\n\nSolved in 5 iterations and 0.07 seconds (0.00 work units)\nOptimal objective  0.000000000e+00\n"
    }
   ],
   "source": [
    "# On classifie nos instances selon les deux méthodes présentées dans le rapport :\n",
    "path1 = Path(\"./solved_example/medium_instance/medium_instance_pareto.csv\")\n",
    "path2 = Path(\"./solved_example/medium_instance/preorder_medium_instance.csv\")\n",
    "selection= run_uta(path1,path2)"
   ]
  },
  {
   "cell_type": "code",
   "execution_count": 14,
   "metadata": {},
   "outputs": [
    {
     "ename": "TypeError",
     "evalue": "gca() got an unexpected keyword argument 'projection'",
     "output_type": "error",
     "traceback": [
      "\u001b[0;31m---------------------------------------------------------------------------\u001b[0m",
      "\u001b[0;31mTypeError\u001b[0m                                 Traceback (most recent call last)",
      "\u001b[0;32m/var/folders/yy/nk3ftmr5559gmlcky86sgvh40000gn/T/ipykernel_79852/3911008945.py\u001b[0m in \u001b[0;36m<module>\u001b[0;34m\u001b[0m\n\u001b[1;32m      5\u001b[0m \u001b[0mmedium_classification_df_learnt\u001b[0m \u001b[0;34m=\u001b[0m \u001b[0mpd\u001b[0m\u001b[0;34m.\u001b[0m\u001b[0mread_csv\u001b[0m\u001b[0;34m(\u001b[0m\u001b[0mpath3\u001b[0m\u001b[0;34m)\u001b[0m\u001b[0;34m\u001b[0m\u001b[0;34m\u001b[0m\u001b[0m\n\u001b[1;32m      6\u001b[0m \u001b[0mmedium_classification_df\u001b[0m\u001b[0;34m=\u001b[0m \u001b[0mpd\u001b[0m\u001b[0;34m.\u001b[0m\u001b[0mread_csv\u001b[0m\u001b[0;34m(\u001b[0m\u001b[0mpath4\u001b[0m\u001b[0;34m)\u001b[0m\u001b[0;34m\u001b[0m\u001b[0;34m\u001b[0m\u001b[0m\n\u001b[0;32m----> 7\u001b[0;31m \u001b[0mplot_classification\u001b[0m\u001b[0;34m(\u001b[0m\u001b[0mmedium_classification_df\u001b[0m\u001b[0;34m)\u001b[0m\u001b[0;34m\u001b[0m\u001b[0;34m\u001b[0m\u001b[0m\n\u001b[0m\u001b[1;32m      8\u001b[0m \u001b[0mplot_classification\u001b[0m\u001b[0;34m(\u001b[0m\u001b[0mmedium_classification_df_learnt\u001b[0m\u001b[0;34m)\u001b[0m\u001b[0;34m\u001b[0m\u001b[0;34m\u001b[0m\u001b[0m\n",
      "\u001b[0;32m~/opt/anaconda3/envs/surfnet/lib/python3.9/site-packages/workforce_scheduling/plot.py\u001b[0m in \u001b[0;36mplot_classification\u001b[0;34m(classification_df)\u001b[0m\n\u001b[1;32m     48\u001b[0m \u001b[0;34m\u001b[0m\u001b[0m\n\u001b[1;32m     49\u001b[0m \u001b[0;32mdef\u001b[0m \u001b[0mplot_classification\u001b[0m\u001b[0;34m(\u001b[0m\u001b[0mclassification_df\u001b[0m\u001b[0;34m:\u001b[0m \u001b[0mpd\u001b[0m\u001b[0;34m.\u001b[0m\u001b[0mDataFrame\u001b[0m\u001b[0;34m)\u001b[0m\u001b[0;34m:\u001b[0m\u001b[0;34m\u001b[0m\u001b[0;34m\u001b[0m\u001b[0m\n\u001b[0;32m---> 50\u001b[0;31m     \u001b[0mfigure\u001b[0m \u001b[0;34m=\u001b[0m \u001b[0mplt\u001b[0m\u001b[0;34m.\u001b[0m\u001b[0mfigure\u001b[0m\u001b[0;34m(\u001b[0m\u001b[0;34m)\u001b[0m\u001b[0;34m.\u001b[0m\u001b[0mgca\u001b[0m\u001b[0;34m(\u001b[0m\u001b[0mprojection\u001b[0m\u001b[0;34m=\u001b[0m\u001b[0;34m\"3d\"\u001b[0m\u001b[0;34m)\u001b[0m\u001b[0;34m\u001b[0m\u001b[0;34m\u001b[0m\u001b[0m\n\u001b[0m\u001b[1;32m     51\u001b[0m     \u001b[0mnon_accepted\u001b[0m \u001b[0;34m=\u001b[0m \u001b[0mclassification_df\u001b[0m\u001b[0;34m[\u001b[0m\u001b[0mclassification_df\u001b[0m\u001b[0;34m[\u001b[0m\u001b[0;34m\"class\"\u001b[0m\u001b[0;34m]\u001b[0m \u001b[0;34m==\u001b[0m \u001b[0;34m\"Non-accepted\"\u001b[0m\u001b[0;34m]\u001b[0m\u001b[0;34m\u001b[0m\u001b[0;34m\u001b[0m\u001b[0m\n\u001b[1;32m     52\u001b[0m     \u001b[0maccepted\u001b[0m \u001b[0;34m=\u001b[0m \u001b[0mclassification_df\u001b[0m\u001b[0;34m[\u001b[0m\u001b[0mclassification_df\u001b[0m\u001b[0;34m[\u001b[0m\u001b[0;34m\"class\"\u001b[0m\u001b[0;34m]\u001b[0m \u001b[0;34m==\u001b[0m \u001b[0;34m\"Accepted\"\u001b[0m\u001b[0;34m]\u001b[0m\u001b[0;34m\u001b[0m\u001b[0;34m\u001b[0m\u001b[0m\n",
      "\u001b[0;31mTypeError\u001b[0m: gca() got an unexpected keyword argument 'projection'"
     ]
    }
   ],
   "source": [
    "# On affiche en 3D la répartition des classes :\n",
    "from workforce_scheduling.plot import plot_classification\n",
    "path3 = Path(\"./solved_example/medium_instance/Classification_instances_coeff_appris.csv\")\n",
    "path4 = Path(\"./solved_example/medium_instance/Classification_instances.csv\")\n",
    "medium_classification_df_learnt = pd.read_csv(path3)\n",
    "medium_classification_df= pd.read_csv(path4)\n",
    "plot_classification(medium_classification_df)\n",
    "plot_classification(medium_classification_df_learnt)"
   ]
  },
  {
   "cell_type": "code",
   "execution_count": 27,
   "metadata": {},
   "outputs": [],
   "source": [
    "from mpl_toolkits.mplot3d import Axes3D\n",
    "import matplotlib.pyplot as plt"
   ]
  },
  {
   "cell_type": "code",
   "execution_count": 29,
   "metadata": {},
   "outputs": [
    {
     "data": {
      "image/png": "[encoded data removed]",
      "image/svg+xml": "<?xml version=\"1.0\" encoding=\"utf-8\" standalone=\"no\"?>\n<!DOCTYPE svg PUBLIC \"-//W3C//DTD SVG 1.1//EN\"\n  \"http://www.w3.org/Graphics/SVG/1.1/DTD/svg11.dtd\">\n<svg xmlns:xlink=\"http://www.w3.org/1999/xlink\" width=\"248.84211pt\" height=\"243.637805pt\" viewBox=\"0 0 248.84211 243.637805\" xmlns=\"http://www.w3.org/2000/svg\" version=\"1.1\">\n <metadata>\n  <rdf:RDF xmlns:dc=\"http://purl.org/dc/elements/1.1/\" xmlns:cc=\"http://creativecommons.org/ns#\" xmlns:rdf=\"http://www.w3.org/1999/02/22-rdf-syntax-ns#\">\n   <cc:Work>\n    <dc:type rdf:resource=\"http://purl.org/dc/dcmitype/StillImage\"/>\n    <dc:date>2023-02-09T16:02:01.855311</dc:date>\n    <dc:format>image/svg+xml</dc:format>\n    <dc:creator>\n     <cc:Agent>\n      <dc:title>Matplotlib v3.6.3, https://matplotlib.org/</dc:title>\n     </cc:Agent>\n    </dc:creator>\n   </cc:Work>\n  </rdf:RDF>\n </metadata>\n <defs>\n  <style type=\"text/css\">*{stroke-linejoin: round; stroke-linecap: butt}</style>\n </defs>\n <g id=\"figure_1\">\n  <g id=\"patch_1\">\n   <path d=\"M 0 243.637805 \nL 248.84211 243.637805 \nL 248.84211 0 \nL 0 0 \nL 0 243.637805 \nz\n\" style=\"fill: none\"/>\n  </g>\n  <g id=\"patch_2\">\n   <path d=\"M 7.2 224.64 \nL 224.64 224.64 \nL 224.64 7.2 \nL 7.2 7.2 \nz\n\" style=\"fill: #ffffff\"/>\n  </g>\n  <g id=\"pane3d_1\">\n   <g id=\"patch_3\">\n    <path d=\"M 23.61822 171.026264 \nL 95.424009 110.837228 \nL 94.42584 24.033878 \nL 19.183773 78.942111 \n\" style=\"fill: #f2f2f2; opacity: 0.5; stroke: #f2f2f2; stroke-linejoin: miter\"/>\n   </g>\n  </g>\n  <g id=\"pane3d_2\">\n   <g id=\"patch_4\">\n    <path d=\"M 95.424009 110.837228 \nL 210.64668 144.32791 \nL 214.758571 54.534718 \nL 94.42584 24.033878 \n\" style=\"fill: #e6e6e6; opacity: 0.5; stroke: #e6e6e6; stroke-linejoin: miter\"/>\n   </g>\n  </g>\n  <g id=\"pane3d_3\">\n   <g id=\"patch_5\">\n    <path d=\"M 23.61822 171.026264 \nL 145.759879 210.91773 \nL 210.64668 144.32791 \nL 95.424009 110.837228 \n\" style=\"fill: #ececec; opacity: 0.5; stroke: #ececec; stroke-linejoin: miter\"/>\n   </g>\n  </g>\n  <g id=\"axis3d_1\">\n   <g id=\"line2d_1\">\n    <path d=\"M 23.61822 171.026264 \nL 145.759879 210.91773 \n\" style=\"fill: none; stroke: #000000; stroke-width: 0.8; stroke-linecap: square\"/>\n   </g>\n   <g id=\"Line3DCollection_1\">\n    <path d=\"M 25.937943 171.783886 \nL 97.621825 111.476046 \nL 96.716379 24.614463 \n\" style=\"fill: none; stroke: #b0b0b0; stroke-width: 0.8\"/>\n    <path d=\"M 48.452495 179.137139 \nL 118.934002 117.670655 \nL 118.937257 30.246808 \n\" style=\"fill: none; stroke: #b0b0b0; stroke-width: 0.8\"/>\n    <path d=\"M 71.420599 186.638521 \nL 140.639748 123.979658 \nL 141.586318 35.987684 \n\" style=\"fill: none; stroke: #b0b0b0; stroke-width: 0.8\"/>\n    <path d=\"M 94.856099 194.292556 \nL 162.750067 130.406255 \nL 164.676058 41.84026 \n\" style=\"fill: none; stroke: #b0b0b0; stroke-width: 0.8\"/>\n    <path d=\"M 118.77341 202.103949 \nL 185.276376 136.953764 \nL 188.219464 47.807828 \n\" style=\"fill: none; stroke: #b0b0b0; stroke-width: 0.8\"/>\n    <path d=\"M 143.187543 210.077605 \nL 208.230526 143.625629 \nL 212.230042 53.893809 \n\" style=\"fill: none; stroke: #b0b0b0; stroke-width: 0.8\"/>\n   </g>\n   <g id=\"xtick_1\">\n    <g id=\"line2d_2\">\n     <path d=\"M 26.562049 171.258825 \nL 24.687061 172.836257 \n\" style=\"fill: none; stroke: #000000; stroke-width: 0.8; stroke-linecap: square\"/>\n    </g>\n    <g id=\"text_1\">\n     <!-- 0.0 -->\n     <g transform=\"translate(10.44498 195.063141) scale(0.1 -0.1)\">\n      <defs>\n       <path id=\"DejaVuSans-30\" d=\"M 2034 4250 \nQ 1547 4250 1301 3770 \nQ 1056 3291 1056 2328 \nQ 1056 1369 1301 889 \nQ 1547 409 2034 409 \nQ 2525 409 2770 889 \nQ 3016 1369 3016 2328 \nQ 3016 3291 2770 3770 \nQ 2525 4250 2034 4250 \nz\nM 2034 4750 \nQ 2819 4750 3233 4129 \nQ 3647 3509 3647 2328 \nQ 3647 1150 3233 529 \nQ 2819 -91 2034 -91 \nQ 1250 -91 836 529 \nQ 422 1150 422 2328 \nQ 422 3509 836 4129 \nQ 1250 4750 2034 4750 \nz\n\" transform=\"scale(0.015625)\"/>\n       <path id=\"DejaVuSans-2e\" d=\"M 684 794 \nL 1344 794 \nL 1344 0 \nL 684 0 \nL 684 794 \nz\n\" transform=\"scale(0.015625)\"/>\n      </defs>\n      <use xlink:href=\"#DejaVuSans-30\"/>\n      <use xlink:href=\"#DejaVuSans-2e\" x=\"63.623047\"/>\n      <use xlink:href=\"#DejaVuSans-30\" x=\"95.410156\"/>\n     </g>\n    </g>\n   </g>\n   <g id=\"xtick_2\">\n    <g id=\"line2d_3\">\n     <path d=\"M 49.066628 178.601557 \nL 47.221573 180.210618 \n\" style=\"fill: none; stroke: #000000; stroke-width: 0.8; stroke-linecap: square\"/>\n    </g>\n    <g id=\"text_2\">\n     <!-- 0.2 -->\n     <g transform=\"translate(32.987289 202.607219) scale(0.1 -0.1)\">\n      <defs>\n       <path id=\"DejaVuSans-32\" d=\"M 1228 531 \nL 3431 531 \nL 3431 0 \nL 469 0 \nL 469 531 \nQ 828 903 1448 1529 \nQ 2069 2156 2228 2338 \nQ 2531 2678 2651 2914 \nQ 2772 3150 2772 3378 \nQ 2772 3750 2511 3984 \nQ 2250 4219 1831 4219 \nQ 1534 4219 1204 4116 \nQ 875 4013 500 3803 \nL 500 4441 \nQ 881 4594 1212 4672 \nQ 1544 4750 1819 4750 \nQ 2544 4750 2975 4387 \nQ 3406 4025 3406 3419 \nQ 3406 3131 3298 2873 \nQ 3191 2616 2906 2266 \nQ 2828 2175 2409 1742 \nQ 1991 1309 1228 531 \nz\n\" transform=\"scale(0.015625)\"/>\n      </defs>\n      <use xlink:href=\"#DejaVuSans-30\"/>\n      <use xlink:href=\"#DejaVuSans-2e\" x=\"63.623047\"/>\n      <use xlink:href=\"#DejaVuSans-32\" x=\"95.410156\"/>\n     </g>\n    </g>\n   </g>\n   <g id=\"xtick_3\">\n    <g id=\"line2d_4\">\n     <path d=\"M 72.02423 186.0921 \nL 70.210701 187.733751 \n\" style=\"fill: none; stroke: #000000; stroke-width: 0.8; stroke-linecap: square\"/>\n    </g>\n    <g id=\"text_3\">\n     <!-- 0.4 -->\n     <g transform=\"translate(55.985814 210.303976) scale(0.1 -0.1)\">\n      <defs>\n       <path id=\"DejaVuSans-34\" d=\"M 2419 4116 \nL 825 1625 \nL 2419 1625 \nL 2419 4116 \nz\nM 2253 4666 \nL 3047 4666 \nL 3047 1625 \nL 3713 1625 \nL 3713 1100 \nL 3047 1100 \nL 3047 0 \nL 2419 0 \nL 2419 1100 \nL 313 1100 \nL 313 1709 \nL 2253 4666 \nz\n\" transform=\"scale(0.015625)\"/>\n      </defs>\n      <use xlink:href=\"#DejaVuSans-30\"/>\n      <use xlink:href=\"#DejaVuSans-2e\" x=\"63.623047\"/>\n      <use xlink:href=\"#DejaVuSans-34\" x=\"95.410156\"/>\n     </g>\n    </g>\n   </g>\n   <g id=\"xtick_4\">\n    <g id=\"line2d_5\">\n     <path d=\"M 95.448671 193.734962 \nL 93.668341 195.410203 \n\" style=\"fill: none; stroke: #000000; stroke-width: 0.8; stroke-linecap: square\"/>\n    </g>\n    <g id=\"text_4\">\n     <!-- 0.6 -->\n     <g transform=\"translate(79.454546 218.158093) scale(0.1 -0.1)\">\n      <defs>\n       <path id=\"DejaVuSans-36\" d=\"M 2113 2584 \nQ 1688 2584 1439 2293 \nQ 1191 2003 1191 1497 \nQ 1191 994 1439 701 \nQ 1688 409 2113 409 \nQ 2538 409 2786 701 \nQ 3034 994 3034 1497 \nQ 3034 2003 2786 2293 \nQ 2538 2584 2113 2584 \nz\nM 3366 4563 \nL 3366 3988 \nQ 3128 4100 2886 4159 \nQ 2644 4219 2406 4219 \nQ 1781 4219 1451 3797 \nQ 1122 3375 1075 2522 \nQ 1259 2794 1537 2939 \nQ 1816 3084 2150 3084 \nQ 2853 3084 3261 2657 \nQ 3669 2231 3669 1497 \nQ 3669 778 3244 343 \nQ 2819 -91 2113 -91 \nQ 1303 -91 875 529 \nQ 447 1150 447 2328 \nQ 447 3434 972 4092 \nQ 1497 4750 2381 4750 \nQ 2619 4750 2861 4703 \nQ 3103 4656 3366 4563 \nz\n\" transform=\"scale(0.015625)\"/>\n      </defs>\n      <use xlink:href=\"#DejaVuSans-30\"/>\n      <use xlink:href=\"#DejaVuSans-2e\" x=\"63.623047\"/>\n      <use xlink:href=\"#DejaVuSans-36\" x=\"95.410156\"/>\n     </g>\n    </g>\n   </g>\n   <g id=\"xtick_5\">\n    <g id=\"line2d_6\">\n     <path d=\"M 119.354338 201.534838 \nL 117.608963 203.244709 \n\" style=\"fill: none; stroke: #000000; stroke-width: 0.8; stroke-linecap: square\"/>\n    </g>\n    <g id=\"text_5\">\n     <!-- 0.8 -->\n     <g transform=\"translate(103.408053 226.174448) scale(0.1 -0.1)\">\n      <defs>\n       <path id=\"DejaVuSans-38\" d=\"M 2034 2216 \nQ 1584 2216 1326 1975 \nQ 1069 1734 1069 1313 \nQ 1069 891 1326 650 \nQ 1584 409 2034 409 \nQ 2484 409 2743 651 \nQ 3003 894 3003 1313 \nQ 3003 1734 2745 1975 \nQ 2488 2216 2034 2216 \nz\nM 1403 2484 \nQ 997 2584 770 2862 \nQ 544 3141 544 3541 \nQ 544 4100 942 4425 \nQ 1341 4750 2034 4750 \nQ 2731 4750 3128 4425 \nQ 3525 4100 3525 3541 \nQ 3525 3141 3298 2862 \nQ 3072 2584 2669 2484 \nQ 3125 2378 3379 2068 \nQ 3634 1759 3634 1313 \nQ 3634 634 3220 271 \nQ 2806 -91 2034 -91 \nQ 1263 -91 848 271 \nQ 434 634 434 1313 \nQ 434 1759 690 2068 \nQ 947 2378 1403 2484 \nz\nM 1172 3481 \nQ 1172 3119 1398 2916 \nQ 1625 2713 2034 2713 \nQ 2441 2713 2670 2916 \nQ 2900 3119 2900 3481 \nQ 2900 3844 2670 4047 \nQ 2441 4250 2034 4250 \nQ 1625 4250 1398 4047 \nQ 1172 3844 1172 3481 \nz\n\" transform=\"scale(0.015625)\"/>\n      </defs>\n      <use xlink:href=\"#DejaVuSans-30\"/>\n      <use xlink:href=\"#DejaVuSans-2e\" x=\"63.623047\"/>\n      <use xlink:href=\"#DejaVuSans-38\" x=\"95.410156\"/>\n     </g>\n    </g>\n   </g>\n   <g id=\"xtick_6\">\n    <g id=\"line2d_7\">\n     <path d=\"M 143.756215 209.496615 \nL 142.047639 211.242203 \n\" style=\"fill: none; stroke: #000000; stroke-width: 0.8; stroke-linecap: square\"/>\n    </g>\n    <g id=\"text_6\">\n     <!-- 1.0 -->\n     <g transform=\"translate(127.861515 234.358118) scale(0.1 -0.1)\">\n      <defs>\n       <path id=\"DejaVuSans-31\" d=\"M 794 531 \nL 1825 531 \nL 1825 4091 \nL 703 3866 \nL 703 4441 \nL 1819 4666 \nL 2450 4666 \nL 2450 531 \nL 3481 531 \nL 3481 0 \nL 794 0 \nL 794 531 \nz\n\" transform=\"scale(0.015625)\"/>\n      </defs>\n      <use xlink:href=\"#DejaVuSans-31\"/>\n      <use xlink:href=\"#DejaVuSans-2e\" x=\"63.623047\"/>\n      <use xlink:href=\"#DejaVuSans-30\" x=\"95.410156\"/>\n     </g>\n    </g>\n   </g>\n  </g>\n  <g id=\"axis3d_2\">\n   <g id=\"line2d_8\">\n    <path d=\"M 210.64668 144.32791 \nL 145.759879 210.91773 \n\" style=\"fill: none; stroke: #000000; stroke-width: 0.8; stroke-linecap: square\"/>\n   </g>\n   <g id=\"Line3DCollection_2\">\n    <path d=\"M 20.825689 77.743915 \nL 25.179341 169.717702 \nL 147.176681 209.463743 \n\" style=\"fill: none; stroke: #b0b0b0; stroke-width: 0.8\"/>\n    <path d=\"M 36.282933 66.463923 \nL 39.888635 157.38808 \nL 160.512791 195.777613 \n\" style=\"fill: none; stroke: #b0b0b0; stroke-width: 0.8\"/>\n    <path d=\"M 51.207487 55.572663 \nL 54.112785 145.465115 \nL 173.386098 182.566433 \n\" style=\"fill: none; stroke: #b0b0b0; stroke-width: 0.8\"/>\n    <path d=\"M 65.626422 45.050381 \nL 67.875404 133.929014 \nL 185.820282 169.805901 \n\" style=\"fill: none; stroke: #b0b0b0; stroke-width: 0.8\"/>\n    <path d=\"M 79.565004 34.878639 \nL 81.198597 122.761251 \nL 197.837435 157.473346 \n\" style=\"fill: none; stroke: #b0b0b0; stroke-width: 0.8\"/>\n    <path d=\"M 93.046844 25.040206 \nL 94.103077 111.944459 \nL 209.458191 145.547592 \n\" style=\"fill: none; stroke: #b0b0b0; stroke-width: 0.8\"/>\n   </g>\n   <g id=\"xtick_7\">\n    <g id=\"line2d_9\">\n     <path d=\"M 146.148393 209.128732 \nL 149.235927 210.134634 \n\" style=\"fill: none; stroke: #000000; stroke-width: 0.8; stroke-linecap: square\"/>\n    </g>\n    <g id=\"text_7\">\n     <!-- 0.0 -->\n     <g transform=\"translate(152.157885 230.544479) scale(0.1 -0.1)\">\n      <use xlink:href=\"#DejaVuSans-30\"/>\n      <use xlink:href=\"#DejaVuSans-2e\" x=\"63.623047\"/>\n      <use xlink:href=\"#DejaVuSans-30\" x=\"95.410156\"/>\n     </g>\n    </g>\n   </g>\n   <g id=\"xtick_8\">\n    <g id=\"line2d_10\">\n     <path d=\"M 159.49699 195.454327 \nL 162.546984 196.42501 \n\" style=\"fill: none; stroke: #000000; stroke-width: 0.8; stroke-linecap: square\"/>\n    </g>\n    <g id=\"text_8\">\n     <!-- 0.2 -->\n     <g transform=\"translate(165.275105 216.610214) scale(0.1 -0.1)\">\n      <use xlink:href=\"#DejaVuSans-30\"/>\n      <use xlink:href=\"#DejaVuSans-2e\" x=\"63.623047\"/>\n      <use xlink:href=\"#DejaVuSans-32\" x=\"95.410156\"/>\n     </g>\n    </g>\n   </g>\n   <g id=\"xtick_9\">\n    <g id=\"line2d_11\">\n     <path d=\"M 172.382544 182.254266 \nL 175.395721 183.191549 \n\" style=\"fill: none; stroke: #000000; stroke-width: 0.8; stroke-linecap: square\"/>\n    </g>\n    <g id=\"text_9\">\n     <!-- 0.4 -->\n     <g transform=\"translate(177.936795 203.159854) scale(0.1 -0.1)\">\n      <use xlink:href=\"#DejaVuSans-30\"/>\n      <use xlink:href=\"#DejaVuSans-2e\" x=\"63.623047\"/>\n      <use xlink:href=\"#DejaVuSans-34\" x=\"95.410156\"/>\n     </g>\n    </g>\n   </g>\n   <g id=\"xtick_10\">\n    <g id=\"line2d_12\">\n     <path d=\"M 184.828738 169.50429 \nL 187.805814 170.409867 \n\" style=\"fill: none; stroke: #000000; stroke-width: 0.8; stroke-linecap: square\"/>\n    </g>\n    <g id=\"text_10\">\n     <!-- 0.6 -->\n     <g transform=\"translate(190.166279 190.168621) scale(0.1 -0.1)\">\n      <use xlink:href=\"#DejaVuSans-30\"/>\n      <use xlink:href=\"#DejaVuSans-2e\" x=\"63.623047\"/>\n      <use xlink:href=\"#DejaVuSans-36\" x=\"95.410156\"/>\n     </g>\n    </g>\n   </g>\n   <g id=\"xtick_11\">\n    <g id=\"line2d_13\">\n     <path d=\"M 196.857666 157.181763 \nL 199.799347 158.057217 \n\" style=\"fill: none; stroke: #000000; stroke-width: 0.8; stroke-linecap: square\"/>\n    </g>\n    <g id=\"text_11\">\n     <!-- 0.8 -->\n     <g transform=\"translate(201.985316 177.613401) scale(0.1 -0.1)\">\n      <use xlink:href=\"#DejaVuSans-30\"/>\n      <use xlink:href=\"#DejaVuSans-2e\" x=\"63.623047\"/>\n      <use xlink:href=\"#DejaVuSans-38\" x=\"95.410156\"/>\n     </g>\n    </g>\n   </g>\n   <g id=\"xtick_12\">\n    <g id=\"line2d_14\">\n     <path d=\"M 208.489966 145.265546 \nL 211.396948 146.112355 \n\" style=\"fill: none; stroke: #000000; stroke-width: 0.8; stroke-linecap: square\"/>\n    </g>\n    <g id=\"text_12\">\n     <!-- 1.0 -->\n     <g transform=\"translate(213.414227 165.472607) scale(0.1 -0.1)\">\n      <use xlink:href=\"#DejaVuSans-31\"/>\n      <use xlink:href=\"#DejaVuSans-2e\" x=\"63.623047\"/>\n      <use xlink:href=\"#DejaVuSans-30\" x=\"95.410156\"/>\n     </g>\n    </g>\n   </g>\n  </g>\n  <g id=\"axis3d_3\">\n   <g id=\"line2d_15\">\n    <path d=\"M 210.64668 144.32791 \nL 214.758571 54.534718 \n\" style=\"fill: none; stroke: #000000; stroke-width: 0.8; stroke-linecap: square\"/>\n   </g>\n   <g id=\"Line3DCollection_3\">\n    <path d=\"M 210.725459 142.607571 \nL 95.404845 109.170725 \nL 23.533401 169.264949 \n\" style=\"fill: none; stroke: #b0b0b0; stroke-width: 0.8\"/>\n    <path d=\"M 211.488678 125.940826 \nL 95.219269 93.03252 \nL 22.711388 152.195327 \n\" style=\"fill: none; stroke: #b0b0b0; stroke-width: 0.8\"/>\n    <path d=\"M 212.264684 108.99483 \nL 95.030732 76.63689 \nL 21.875076 134.828753 \n\" style=\"fill: none; stroke: #b0b0b0; stroke-width: 0.8\"/>\n    <path d=\"M 213.053803 91.762507 \nL 94.839164 59.977627 \nL 21.024086 117.15741 \n\" style=\"fill: none; stroke: #b0b0b0; stroke-width: 0.8\"/>\n    <path d=\"M 213.856368 74.236538 \nL 94.64449 43.048321 \nL 20.158031 99.173203 \n\" style=\"fill: none; stroke: #b0b0b0; stroke-width: 0.8\"/>\n    <path d=\"M 214.672726 56.409352 \nL 94.446636 25.842351 \nL 19.276505 80.867751 \n\" style=\"fill: none; stroke: #b0b0b0; stroke-width: 0.8\"/>\n   </g>\n   <g id=\"xtick_13\">\n    <g id=\"line2d_16\">\n     <path d=\"M 209.757563 142.326933 \nL 212.663556 143.169516 \n\" style=\"fill: none; stroke: #000000; stroke-width: 0.8; stroke-linecap: square\"/>\n    </g>\n    <g id=\"text_13\">\n     <!-- 0.0 -->\n     <g transform=\"translate(221.025603 147.606846) scale(0.1 -0.1)\">\n      <use xlink:href=\"#DejaVuSans-30\"/>\n      <use xlink:href=\"#DejaVuSans-2e\" x=\"63.623047\"/>\n      <use xlink:href=\"#DejaVuSans-30\" x=\"95.410156\"/>\n     </g>\n    </g>\n   </g>\n   <g id=\"xtick_14\">\n    <g id=\"line2d_17\">\n     <path d=\"M 210.512439 125.664516 \nL 213.4435 126.494108 \n\" style=\"fill: none; stroke: #000000; stroke-width: 0.8; stroke-linecap: square\"/>\n    </g>\n    <g id=\"text_14\">\n     <!-- 0.2 -->\n     <g transform=\"translate(221.937068 130.98026) scale(0.1 -0.1)\">\n      <use xlink:href=\"#DejaVuSans-30\"/>\n      <use xlink:href=\"#DejaVuSans-2e\" x=\"63.623047\"/>\n      <use xlink:href=\"#DejaVuSans-32\" x=\"95.410156\"/>\n     </g>\n    </g>\n   </g>\n   <g id=\"xtick_15\">\n    <g id=\"line2d_18\">\n     <path d=\"M 211.279957 108.723034 \nL 214.236522 109.53908 \n\" style=\"fill: none; stroke: #000000; stroke-width: 0.8; stroke-linecap: square\"/>\n    </g>\n    <g id=\"text_15\">\n     <!-- 0.4 -->\n     <g transform=\"translate(222.863749 114.076137) scale(0.1 -0.1)\">\n      <use xlink:href=\"#DejaVuSans-30\"/>\n      <use xlink:href=\"#DejaVuSans-2e\" x=\"63.623047\"/>\n      <use xlink:href=\"#DejaVuSans-34\" x=\"95.410156\"/>\n     </g>\n    </g>\n   </g>\n   <g id=\"xtick_16\">\n    <g id=\"line2d_19\">\n     <path d=\"M 212.060439 91.495417 \nL 215.042954 92.297339 \n\" style=\"fill: none; stroke: #000000; stroke-width: 0.8; stroke-linecap: square\"/>\n    </g>\n    <g id=\"text_16\">\n     <!-- 0.6 -->\n     <g transform=\"translate(223.806028 96.887468) scale(0.1 -0.1)\">\n      <use xlink:href=\"#DejaVuSans-30\"/>\n      <use xlink:href=\"#DejaVuSans-2e\" x=\"63.623047\"/>\n      <use xlink:href=\"#DejaVuSans-36\" x=\"95.410156\"/>\n     </g>\n    </g>\n   </g>\n   <g id=\"xtick_17\">\n    <g id=\"line2d_20\">\n     <path d=\"M 212.854215 73.974354 \nL 215.86314 74.761549 \n\" style=\"fill: none; stroke: #000000; stroke-width: 0.8; stroke-linecap: square\"/>\n    </g>\n    <g id=\"text_17\">\n     <!-- 0.8 -->\n     <g transform=\"translate(224.764303 79.407009) scale(0.1 -0.1)\">\n      <use xlink:href=\"#DejaVuSans-30\"/>\n      <use xlink:href=\"#DejaVuSans-2e\" x=\"63.623047\"/>\n      <use xlink:href=\"#DejaVuSans-38\" x=\"95.410156\"/>\n     </g>\n    </g>\n   </g>\n   <g id=\"xtick_18\">\n    <g id=\"line2d_21\">\n     <path d=\"M 213.661628 56.152284 \nL 216.697433 56.924126 \n\" style=\"fill: none; stroke: #000000; stroke-width: 0.8; stroke-linecap: square\"/>\n    </g>\n    <g id=\"text_18\">\n     <!-- 1.0 -->\n     <g transform=\"translate(225.738985 61.627265) scale(0.1 -0.1)\">\n      <use xlink:href=\"#DejaVuSans-31\"/>\n      <use xlink:href=\"#DejaVuSans-2e\" x=\"63.623047\"/>\n      <use xlink:href=\"#DejaVuSans-30\" x=\"95.410156\"/>\n     </g>\n    </g>\n   </g>\n  </g>\n  <g id=\"axes_1\"/>\n </g>\n</svg>\n",
      "text/plain": "<Figure size 432x288 with 1 Axes>"
     },
     "metadata": {
      "needs_background": "light"
     },
     "output_type": "display_data"
    }
   ],
   "source": [
    "figure= plt.figure()\n",
    "ax= figure.add_subplot(projection='3d')"
   ]
  },
  {
   "cell_type": "code",
   "execution_count": null,
   "metadata": {},
   "outputs": [],
   "source": []
  }
 ],
 "metadata": {
  "kernelspec": {
   "display_name": "Python 3.9.7 64-bit ('surfnet': conda)",
   "language": "python",
   "name": "python39764bitsurfnetconda71f634796ff54264889eac10ce56cc43"
  },
  "language_info": {
   "codemirror_mode": {
    "name": "ipython",
    "version": 3
   },
   "file_extension": ".py",
   "mimetype": "text/x-python",
   "name": "python",
   "nbconvert_exporter": "python",
   "pygments_lexer": "ipython3",
   "version": "3.9.7-final"
  },
  "vscode": {
   "interpreter": {
    "hash": "5ee2d4ab1aef22665cb9574441f1d1c42956064283c1e6d23ad8a0688e81c5ed"
   }
  }
 },
 "nbformat": 4,
 "nbformat_minor": 2
}